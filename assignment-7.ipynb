{
 "cells": [
  {
   "cell_type": "markdown",
   "id": "d4ccc54d",
   "metadata": {},
   "source": [
    "1. What is the name of the feature responsible for generating Regex objects?\n",
    "Ans: re.compile() is the feature responsible for generation of Regex objects."
   ]
  },
  {
   "cell_type": "code",
   "execution_count": 1,
   "id": "d0fe6a59",
   "metadata": {},
   "outputs": [
    {
     "name": "stdout",
     "output_type": "stream",
     "text": [
      "<class 're.Pattern'>\n",
      "re.compile('some_random_pattern')\n"
     ]
    }
   ],
   "source": [
    "import re\n",
    "x = re.compile(\"some_random_pattern\")\n",
    "print(type(x))\n",
    "print(x)"
   ]
  },
  {
   "cell_type": "raw",
   "id": "9b82b4ad",
   "metadata": {},
   "source": [
    "2. Why do raw strings often appear in Regex objects?\n",
    "Ans: Regular expressions use the backslash character ('\\') to indicate special forms (Metacharacters) or to allow special\n",
    " characters (speical sequences) to be used without invoking their special meaning. This collides with Python’s usage of \n",
    " the same character for the same purpose in string literals. Hence, Raw strings are used (e.g. r\"\\n\") so that backslashes\n",
    "  do not have to be escaped."
   ]
  },
  {
   "cell_type": "raw",
   "id": "c8da0c8e",
   "metadata": {},
   "source": [
    "3. What is the return value of the search() method?\n",
    "Ans: The return value of re.search(pattern,string) method is a match object if the pattern is observed in the string else\n",
    " it returns a None"
   ]
  },
  {
   "cell_type": "code",
   "execution_count": 2,
   "id": "28e30c34",
   "metadata": {},
   "outputs": [
    {
     "name": "stdout",
     "output_type": "stream",
     "text": [
      "Output: <re.Match object; span=(0, 1), match='I'>\n",
      "Output: None\n"
     ]
    }
   ],
   "source": [
    "import re\n",
    "match = re.search('i','Ineuron Full Stack Data Science Program', flags=re.IGNORECASE)\n",
    "print('Output:',match)\n",
    "match = re.search('x','Ineuron Full Stack Data Science Program', flags=re.IGNORECASE)\n",
    "print('Output:',match)"
   ]
  },
  {
   "cell_type": "raw",
   "id": "7aff7064",
   "metadata": {},
   "source": [
    "4. From a Match item, how do you get the actual strings that match the pattern?\n",
    "Ans: For Matched items group() methods returns actual strings that match the pattern"
   ]
  },
  {
   "cell_type": "code",
   "execution_count": 3,
   "id": "fee6de80",
   "metadata": {},
   "outputs": [
    {
     "name": "stdout",
     "output_type": "stream",
     "text": [
      "Output: Ineuron\n"
     ]
    }
   ],
   "source": [
    "import re\n",
    "match = re.search('ineuron','Ineuron Full Stack Data Science Program', flags=re.IGNORECASE)\n",
    "print('Output:',match.group())"
   ]
  },
  {
   "cell_type": "raw",
   "id": "4edcfaa7",
   "metadata": {},
   "source": [
    "5. In the regex which created from the r'(\\d\\d\\d)-(\\d\\d\\d-\\d\\d\\d\\d)', what does group zero cover? Group 2? Group 1?\n",
    "Ans: In the Regex r'(\\d\\d\\d)-(\\d\\d\\d-\\d\\d\\d\\d)' the zero group covers the entire pattern match where as the first group \n",
    "cover (\\d\\d\\d) and the second group cover (\\d\\d\\d-\\d\\d\\d\\d)"
   ]
  },
  {
   "cell_type": "code",
   "execution_count": 4,
   "id": "d28ec798",
   "metadata": {},
   "outputs": [
    {
     "name": "stdout",
     "output_type": "stream",
     "text": [
      "('415', '555-4242')\n",
      "415-555-4242\n",
      "415\n",
      "555-4242\n"
     ]
    }
   ],
   "source": [
    "# Example Program\n",
    "import re\n",
    "phoneNumRegex = re.compile(r'(\\d\\d\\d)-(\\d\\d\\d-\\d\\d\\d\\d)')\n",
    "mo = phoneNumRegex.search('My number is 415-555-4242.')\n",
    "print(mo.groups()) # Prints all groups in a tuple format\n",
    "print(mo.group()) # Always returns the fully matched string \n",
    "print(mo.group(1)) # Returns the first group\n",
    "print(mo.group(2)) # Returns the second group"
   ]
  },
  {
   "cell_type": "raw",
   "id": "50103f0d",
   "metadata": {},
   "source": [
    "6. In standard expression syntax, parentheses and intervals have distinct meanings. How can you tell a regex that you want \n",
    "it to fit real parentheses and periods?\n",
    "Ans. The \\. \\( and \\) escape characters in the raw string passed to re.compile() will match actual parenthesis characters."
   ]
  },
  {
   "cell_type": "code",
   "execution_count": 5,
   "id": "1cbbe4b6",
   "metadata": {},
   "outputs": [
    {
     "name": "stdout",
     "output_type": "stream",
     "text": [
      "(415) 555-4242\n"
     ]
    }
   ],
   "source": [
    "import re\n",
    "phoneNumRegex = re.compile(r'(\\(\\d\\d\\d\\)) (\\d\\d\\d-\\d\\d\\d\\d)')\n",
    "mo = phoneNumRegex.search('My phone number is (415) 555-4242.')\n",
    "print(mo.group())"
   ]
  },
  {
   "cell_type": "raw",
   "id": "94a164f2",
   "metadata": {},
   "source": [
    "7. The findall() method returns a string list or a list of string tuples. What causes it to return one of the two options?\n",
    "Ans.  If the regex pattern has no groups, a list of strings matched is returned. if the regex pattern has groups,\n",
    " a list of tuple of strings is returned."
   ]
  },
  {
   "cell_type": "code",
   "execution_count": 6,
   "id": "472ad878",
   "metadata": {},
   "outputs": [
    {
     "name": "stdout",
     "output_type": "stream",
     "text": [
      "[('(415)', '555-4242')]\n",
      "['415-555-4242']\n"
     ]
    }
   ],
   "source": [
    "\n",
    "# Example Program\n",
    "import re\n",
    "phoneNumRegex = re.compile(r'(\\(\\d\\d\\d\\)) (\\d\\d\\d-\\d\\d\\d\\d)')\n",
    "mo = phoneNumRegex.findall('My phone number is (415) 555-4242.')\n",
    "print(mo)\n",
    "\n",
    "# Example Program\n",
    "import re\n",
    "phoneNumRegex = re.compile(r'\\d{3}-\\d{3}-\\d{4}')\n",
    "mo = phoneNumRegex.findall('My number is 415-555-4242.')\n",
    "print(mo) # Prints all groups in a tuple format"
   ]
  },
  {
   "cell_type": "raw",
   "id": "e23b1b0b",
   "metadata": {},
   "source": [
    "8. In standard expressions, what does the | character mean?\n",
    "Ans: In Standard Expressions | means OR operator."
   ]
  },
  {
   "cell_type": "raw",
   "id": "0ede3e83",
   "metadata": {},
   "source": [
    "9. In regular expressions, what does the ? character stand for?\n",
    "Ans: In regular Expressions, ? characters represents zero or one match of the preceeding group."
   ]
  },
  {
   "cell_type": "code",
   "execution_count": 7,
   "id": "cf7cba8d",
   "metadata": {},
   "outputs": [
    {
     "name": "stdout",
     "output_type": "stream",
     "text": [
      "<re.Match object; span=(0, 6), match='Batman'>\n",
      "<re.Match object; span=(0, 8), match='Batwoman'>\n"
     ]
    }
   ],
   "source": [
    "# Example Program\n",
    "import re\n",
    "match_1 = re.search(\"Bat(wo)?man\",\"Batman returns\")\n",
    "print(match_1)\n",
    "match_2 = re.search(\"Bat(wo)?man\",\"Batwoman returns\")\n",
    "print(match_2)"
   ]
  },
  {
   "cell_type": "raw",
   "id": "32acd1d1",
   "metadata": {},
   "source": [
    "10.In regular expressions, what is the difference between the + and * characters?\n",
    "Ans: In Regular Expressions, * Represents Zero ore more occurances of the preceeding group, whereas + represents one or\n",
    " more occurances of the preceeding group.\n"
   ]
  },
  {
   "cell_type": "code",
   "execution_count": 8,
   "id": "c586d754",
   "metadata": {},
   "outputs": [
    {
     "name": "stdout",
     "output_type": "stream",
     "text": [
      "<re.Match object; span=(0, 6), match='Batman'>\n",
      "None\n"
     ]
    }
   ],
   "source": [
    "\n",
    "import re\n",
    "match_1 = re.search(\"Bat(wo)*man\",\"Batman returns\")\n",
    "print(match_1)\n",
    "match_2 = re.search(\"Bat(wo)+man\",\"Batman returns\")\n",
    "print(match_2)"
   ]
  },
  {
   "cell_type": "raw",
   "id": "2b1ef02a",
   "metadata": {},
   "source": [
    "11. What is the difference between {4} and {4,5} in regular expression?\n",
    "Ans: {4} means that its preceeding group should repeat 4 times. where as {4,5} means that its preceeding group should repeat mininum 4 times and maximum 5 times inclusively"
   ]
  },
  {
   "cell_type": "code",
   "execution_count": 9,
   "id": "7d5a07d5",
   "metadata": {},
   "outputs": [
    {
     "name": "stdout",
     "output_type": "stream",
     "text": [
      "HaHaHa\n",
      "None\n"
     ]
    }
   ],
   "source": [
    "import re\n",
    "haRegex = re.compile(r'(Ha){3}')\n",
    "mo1 = haRegex.search('HaHaHa')\n",
    "mo2 = haRegex.search('Ha')\n",
    "print(mo1.group())\n",
    "print(mo2)"
   ]
  },
  {
   "cell_type": "raw",
   "id": "55c95476",
   "metadata": {},
   "source": [
    "12. What do you mean by the \\d, \\w, and \\s shorthand character classes signify in regular expressions?\n",
    "Ans: \\d, \\w and \\s are special sequences in regular expresssions in python:\n",
    "\n",
    "\\w – Matches a word character equivalent to [a-zA-Z0-9_]\n",
    "\\d – Matches digit character equivalent to [0-9]\n",
    "\\s – Matches whitespace character (space, tab, newline, etc.)"
   ]
  },
  {
   "cell_type": "raw",
   "id": "6b61d5ee",
   "metadata": {},
   "source": [
    "13. What do means by \\D, \\W, and \\S shorthand character classes signify in regular expressions?\n",
    "Ans: \\D, \\W and \\S are special sequences in regular expresssions in python:\n",
    "\n",
    "\\W – Matches any non-alphanumeric character equivalent to [^a-zA-Z0-9_]\n",
    "\\D – Matches any non-digit character, this is equivalent to the set class [^0-9]\n",
    "\\S – Matches any non-whitespace character"
   ]
  },
  {
   "cell_type": "raw",
   "id": "90bbee77",
   "metadata": {},
   "source": [
    "14. What is the difference between .*? and .*?\n",
    "Ans: .* is a Greedy mode, which returns the longest string that meets the condition.\n",
    " Whereas .*? is a non greedy mode which returns the shortest string that meets the condition."
   ]
  },
  {
   "cell_type": "raw",
   "id": "186a4023",
   "metadata": {},
   "source": [
    "15. What is the syntax for matching both numbers and lowercase letters with a character class?\n",
    "Ans: The Synatax is Either [a-z0-9] or [0-9a-z]"
   ]
  },
  {
   "cell_type": "raw",
   "id": "009b0b41",
   "metadata": {},
   "source": [
    "16. What is the procedure for making a normal expression in regax case insensitive?\n",
    "Ans: We can pass re.IGNORECASE as a flag to make a noraml expression case insensitive"
   ]
  },
  {
   "cell_type": "raw",
   "id": "5ee68151",
   "metadata": {},
   "source": [
    "17. What does the . character normally match? What does it match if re.DOTALL is passed as 2nd argument in re.compile()?\n",
    "Ans: Dot . character matches everything in input except newline character .. By passing re.DOTALL as a flag to re.compile(),\n",
    " you can make the dot character match all characters, including the newline character."
   ]
  },
  {
   "cell_type": "raw",
   "id": "d4ab9a2b",
   "metadata": {},
   "source": [
    "18. If numReg = re.compile(r'\\d+'), what will numRegex.sub('X', '11 drummers, 10 pipers, five rings, 4 hen') return?\n",
    "Ans: The Ouput will be 'X drummers, X pipers, five rings, X hen'\n"
   ]
  },
  {
   "cell_type": "code",
   "execution_count": 10,
   "id": "143f23e7",
   "metadata": {},
   "outputs": [
    {
     "data": {
      "text/plain": [
       "'X drummers, X pipers, five rings, X hen'"
      ]
     },
     "execution_count": 10,
     "metadata": {},
     "output_type": "execute_result"
    }
   ],
   "source": [
    "\n",
    "import re\n",
    "numReg = re.compile(r'\\d+')\n",
    "numReg.sub('X', '11 drummers, 10 pipers, five rings, 4 hen')"
   ]
  },
  {
   "cell_type": "raw",
   "id": "1e20c8db",
   "metadata": {},
   "source": [
    "19. What does passing re.VERBOSE as the 2nd argument to re.compile() allow to do?\n",
    "Ans: re.VERBOSE will allow to add whitespace and comments to string passed to re.compile()."
   ]
  },
  {
   "cell_type": "code",
   "execution_count": 11,
   "id": "7b5ae72a",
   "metadata": {},
   "outputs": [],
   "source": [
    "# Without Using VERBOSE\n",
    "regex_email = re.compile(r'^([a-z0-9_\\.-]+)@([0-9a-z\\.-]+)\\.([a-z\\.]{2, 6})$', re.IGNORECASE)\n",
    " \n",
    "# Using VERBOSE\n",
    "regex_email = re.compile(r\"\"\"\n",
    "                            ^([a-z0-9_\\.-]+)              # local Part like username\n",
    "                            @                             # single @ sign \n",
    "                            ([0-9a-z\\.-]+)                # Domain name like google\n",
    "                            \\.                            # single Dot .\n",
    "                            ([a-z]{2,6})$                 # Top level Domain  like com/in/org\n",
    "                         \"\"\",re.VERBOSE | re.IGNORECASE)   "
   ]
  },
  {
   "cell_type": "raw",
   "id": "d0787ea1",
   "metadata": {},
   "source": [
    "20. How would you write a regex that match a number with comma for every three digits? It must match the given following:\n",
    "'42','1,234', '6,368,745'but not the following: '12,34,567' (which has only two digits between the commas) '1234'\n",
    " (which lacks commas)"
   ]
  },
  {
   "cell_type": "code",
   "execution_count": 12,
   "id": "60d83221",
   "metadata": {},
   "outputs": [
    {
     "name": "stdout",
     "output_type": "stream",
     "text": [
      "Output: 42 -> <re.Match object; span=(0, 2), match='42'>\n",
      "Output: 1,234 -> <re.Match object; span=(0, 5), match='1,234'>\n",
      "Output: 6,368,745 -> <re.Match object; span=(0, 9), match='6,368,745'>\n",
      "Output: 12,34,567 -> None\n",
      "Output: 1234 -> None\n"
     ]
    }
   ],
   "source": [
    "import re\n",
    "pattern = r'^\\d{1,3}(,\\d{3})*$'\n",
    "pagex = re.compile(pattern)\n",
    "for ele in ['42','1,234', '6,368,745','12,34,567','1234']:\n",
    "    print('Output:',ele, '->', pagex.search(ele))"
   ]
  },
  {
   "cell_type": "raw",
   "id": "4408cb20",
   "metadata": {},
   "source": [
    "21. How would you write a regex that matches the full name of someone whose last name is Watanabe? You can assume that \n",
    "the first name that comes before it will always be one word that begins with a capital letter. The regex must match the \n",
    "following:\n",
    "'Haruto Watanabe'\n",
    "'Alice Watanabe'\n",
    "'RoboCop Watanabe'\n",
    "\n",
    "but not the following:\n",
    "\n",
    "'haruto Watanabe' (where the first name is not capitalized)\n",
    "'Mr. Watanabe' (where the preceding word has a nonletter character)\n",
    "'Watanabe' (which has no first name)\n",
    "'Haruto watanabe' (where Watanabe is not capitalized)\n",
    "\n",
    "Ans: pattern = r'[A-Z]{1}[a-z]*\\sWatanabe'"
   ]
  },
  {
   "cell_type": "code",
   "execution_count": 13,
   "id": "dac0d2a6",
   "metadata": {},
   "outputs": [
    {
     "name": "stdout",
     "output_type": "stream",
     "text": [
      "Output:  Haruto Watanabe -> <re.Match object; span=(0, 15), match='Haruto Watanabe'>\n",
      "Output:  Alice Watanabe -> <re.Match object; span=(0, 14), match='Alice Watanabe'>\n",
      "Output:  RoboCop Watanabe -> <re.Match object; span=(4, 16), match='Cop Watanabe'>\n",
      "Output:  haruto Watanabe -> None\n",
      "Output:  Mr. Watanabe -> None\n",
      "Output:  Watanabe -> None\n",
      "Output:  Haruto watanabe -> None\n"
     ]
    }
   ],
   "source": [
    "import re\n",
    "pattern = r'[A-Z]{1}[a-z]*\\sWatanabe'\n",
    "namex = re.compile(pattern)\n",
    "for name in ['Haruto Watanabe','Alice Watanabe','RoboCop Watanabe','haruto Watanabe','Mr. Watanabe','Watanabe','Haruto watanabe']:\n",
    "    print('Output: ',name,'->',namex.search(name))"
   ]
  },
  {
   "cell_type": "raw",
   "id": "7a601e28",
   "metadata": {},
   "source": [
    "22. How would you write a regex that matches a sentence where the first word is either Alice, Bob,or Carol; \n",
    "the second word is either eats, pets, or throws; the third word is apples, cats, or baseballs; \n",
    "and the sentence ends with a period? This regex should be case-insensitive. It must match the following:\n",
    "'Alice eats apples.'\n",
    "'Bob pets cats.'\n",
    "'Carol throws baseballs.'\n",
    "'Alice throws Apples.'\n",
    "'BOB EATS CATS.'\n",
    "\n",
    "but not the following:\n",
    "\n",
    "'RoboCop eats apples.'\n",
    "'ALICE THROWS FOOTBALLS.'\n",
    "'Carol eats 7 cats.'\n",
    "\n",
    "Ans: pattern = r'(Alice|Bob|Carol)\\s(eats|pets|throws)\\s(apples|cats|baseballs)\\.'"
   ]
  },
  {
   "cell_type": "code",
   "execution_count": 14,
   "id": "c1642266",
   "metadata": {},
   "outputs": [
    {
     "name": "stdout",
     "output_type": "stream",
     "text": [
      "Output:  Alice eats apples. -> <re.Match object; span=(0, 18), match='Alice eats apples.'>\n",
      "Output:  Bob pets cats. -> <re.Match object; span=(0, 14), match='Bob pets cats.'>\n",
      "Output:  Carol throws baseballs. -> <re.Match object; span=(0, 23), match='Carol throws baseballs.'>\n",
      "Output:  Alice throws Apples. -> <re.Match object; span=(0, 20), match='Alice throws Apples.'>\n",
      "Output:  BOB EATS CATS. -> <re.Match object; span=(0, 14), match='BOB EATS CATS.'>\n",
      "Output:  RoboCop eats apples. -> None\n",
      "Output:  ALICE THROWS FOOTBALLS. -> None\n",
      "Output:  Carol eats 7 cats. -> None\n"
     ]
    }
   ],
   "source": [
    "import re\n",
    "pattern = r'(Alice|Bob|Carol)\\s(eats|pets|throws)\\s(apples|cats|baseballs)\\.'\n",
    "casex = re.compile(pattern,re.IGNORECASE)\n",
    "for ele in ['Alice eats apples.','Bob pets cats.','Carol throws baseballs.','Alice throws Apples.','BOB EATS CATS.','RoboCop eats apples.'\n",
    ",'ALICE THROWS FOOTBALLS.','Carol eats 7 cats.']:\n",
    "    print('Output: ',ele,'->',casex.search(ele))"
   ]
  },
  {
   "cell_type": "code",
   "execution_count": null,
   "id": "57c039ae",
   "metadata": {},
   "outputs": [],
   "source": []
  },
  {
   "cell_type": "code",
   "execution_count": null,
   "id": "493c092a",
   "metadata": {},
   "outputs": [],
   "source": []
  },
  {
   "cell_type": "code",
   "execution_count": null,
   "id": "668ccd9f",
   "metadata": {},
   "outputs": [],
   "source": []
  },
  {
   "cell_type": "code",
   "execution_count": null,
   "id": "98e44ed4",
   "metadata": {},
   "outputs": [],
   "source": []
  },
  {
   "cell_type": "code",
   "execution_count": null,
   "id": "3dd33308",
   "metadata": {},
   "outputs": [],
   "source": []
  }
 ],
 "metadata": {
  "kernelspec": {
   "display_name": "Python 3 (ipykernel)",
   "language": "python",
   "name": "python3"
  },
  "language_info": {
   "codemirror_mode": {
    "name": "ipython",
    "version": 3
   },
   "file_extension": ".py",
   "mimetype": "text/x-python",
   "name": "python",
   "nbconvert_exporter": "python",
   "pygments_lexer": "ipython3",
   "version": "3.9.7"
  },
  "vscode": {
   "interpreter": {
    "hash": "91de507b8e90e41980ee20c923a1e3fe46625e894da45a3e71f9330d3705df8e"
   }
  }
 },
 "nbformat": 4,
 "nbformat_minor": 5
}
