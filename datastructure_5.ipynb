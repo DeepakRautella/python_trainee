{
 "cells": [
  {
   "cell_type": "code",
   "execution_count": null,
   "id": "5297693c",
   "metadata": {},
   "outputs": [],
   "source": [
    "1. Describe Python's built-in data structure?\n",
    "2. Describe the Python user data structure?\n",
    "3. Describe the stages involved in writing an algorithm?\n",
    "4. Outline the components of a good algorithm?\n",
    "5. Describe the Tree traversal method?\n",
    "\n",
    "6. Explain the difference between inorder and postorder tree traversal?"
   ]
  },
  {
   "cell_type": "code",
   "execution_count": null,
   "id": "f827f2d9",
   "metadata": {},
   "outputs": [],
   "source": [
    "1)Python has four basic inbuilt data structures namely Lists, Dictionary, Tuple and Set."
   ]
  },
  {
   "cell_type": "code",
   "execution_count": null,
   "id": "00eb87b5",
   "metadata": {},
   "outputs": [],
   "source": [
    "2)User-defined data structures: Data structures that aren’t supported by python but can be programmed\n",
    "to reflect the same functionality using concepts supported by python are user-defined data structures. \n",
    "There are many data structure that can be implemented this way:\n",
    "Linked list\n",
    "Stack\n",
    "Queue\n",
    "Tree\n",
    "Graph\n",
    "Hashmap"
   ]
  },
  {
   "cell_type": "code",
   "execution_count": null,
   "id": "7291b0bc",
   "metadata": {},
   "outputs": [],
   "source": [
    "3)Step 1: Obtain a description of the problem. This step is much more difficult than it appears. ...\n",
    "\n",
    "Step 2: Analyze the problem.\n",
    "\n",
    "Step 3: Develop a high-level algorithm.\n",
    "\n",
    "Step 4: Refine the algorithm by adding more detail.\n",
    "\n",
    "Step 5: Review the algorithm.\n"
   ]
  },
  {
   "cell_type": "code",
   "execution_count": null,
   "id": "aff929d1",
   "metadata": {},
   "outputs": [],
   "source": [
    "4)The component of a good algorithm are:\n",
    "Precision – the steps are precisely stated(defined).\n",
    "Uniqueness – results of each step are uniquely definedand only depend on the input and the result of the precedingsteps.\n",
    "Finiteness – the algorithm stops after a finite number ofinstructions are executed.\n",
    "Input – the algorithm receives input.\n",
    "Output – the algorithm produces output.\n",
    "Generality – the algorithm applies to a set ofinputs."
   ]
  },
  {
   "cell_type": "code",
   "execution_count": null,
   "id": "14ea36e6",
   "metadata": {},
   "outputs": [],
   "source": [
    "5) tree traversal (also known as tree search and walking the tree) is a form of graph traversal\n",
    "and refers to the process of visiting (e.g. retrieving, updating, or deleting) each node in a tree data structure,\n",
    "exactly once. Such traversals are classified by the order in which the nodes are visited."
   ]
  },
  {
   "cell_type": "code",
   "execution_count": null,
   "id": "31679b6f",
   "metadata": {},
   "outputs": [],
   "source": [
    "6)Inorder Traversal (left-current-right)— Visit the current node after visiting all nodes inside left subtree but \n",
    "before visiting any node within the right subtree.\n",
    "Postorder Traversal (left-right-current) — Visit the current node after visiting all the nodes of left and right subtrees."
   ]
  }
 ],
 "metadata": {
  "kernelspec": {
   "display_name": "Python 3 (ipykernel)",
   "language": "python",
   "name": "python3"
  },
  "language_info": {
   "codemirror_mode": {
    "name": "ipython",
    "version": 3
   },
   "file_extension": ".py",
   "mimetype": "text/x-python",
   "name": "python",
   "nbconvert_exporter": "python",
   "pygments_lexer": "ipython3",
   "version": "3.9.7"
  }
 },
 "nbformat": 4,
 "nbformat_minor": 5
}
