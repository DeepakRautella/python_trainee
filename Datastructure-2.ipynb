{
 "cells": [
  {
   "cell_type": "code",
   "execution_count": 1,
   "id": "70fad885",
   "metadata": {},
   "outputs": [
    {
     "data": {
      "text/plain": [
       "'\"\\n1. What is a linked list?\\n\\n2. What are the different forms of linked lists?\\n\\n3. What is a linked list\\'s purpose?\\n4. What are the advantages of linked lists over arrays?\\n5. What is the purpose of a circular linked list?\\n6. How will you explain Circular Linked List?\\n'"
      ]
     },
     "execution_count": 1,
     "metadata": {},
     "output_type": "execute_result"
    }
   ],
   "source": [
    "\"\"\"\"\n",
    "1. What is a linked list?\n",
    "\n",
    "2. What are the different forms of linked lists?\n",
    "\n",
    "3. What is a linked list's purpose?\n",
    "4. What are the advantages of linked lists over arrays?\n",
    "5. What is the purpose of a circular linked list?\n",
    "6. How will you explain Circular Linked List?\n",
    "\"\"\""
   ]
  },
  {
   "cell_type": "code",
   "execution_count": null,
   "id": "3b8fb95f",
   "metadata": {},
   "outputs": [],
   "source": [
    "1)A linked list is a linear data structure, in which the elements are not stored at contiguous memory locations.\n",
    "  The elements in a linked list are linked using pointers "
   ]
  },
  {
   "cell_type": "code",
   "execution_count": null,
   "id": "6acf3b05",
   "metadata": {},
   "outputs": [],
   "source": [
    "2)There are four key types of linked lists:\n",
    "Singly linked lists.\n",
    "Doubly linked lists.\n",
    "Circular linked lists.\n",
    "Circular doubly linked lists."
   ]
  },
  {
   "cell_type": "code",
   "execution_count": null,
   "id": "d17c3ad7",
   "metadata": {},
   "outputs": [],
   "source": [
    "3)main purpose of linked list is easy insertion and deletion of data and memory utilization"
   ]
  },
  {
   "cell_type": "code",
   "execution_count": null,
   "id": "f96fba91",
   "metadata": {},
   "outputs": [],
   "source": [
    "4)inked list has dynamic size whereas for array it is fixed size\n",
    "insertion and deletion is easy in linked list"
   ]
  },
  {
   "cell_type": "code",
   "execution_count": null,
   "id": "3654e9f6",
   "metadata": {},
   "outputs": [],
   "source": [
    "5)Circular lists are useful in applications to repeatedly go around the list,any point can be starting point"
   ]
  },
  {
   "cell_type": "code",
   "execution_count": null,
   "id": "13365507",
   "metadata": {},
   "outputs": [],
   "source": [
    "6)Circular linked list is a linked list where all nodes are connected to form a circle. There is no NULL at the end. \n",
    "A circular linked list can be a singly circular linked list or doubly circular linked list."
   ]
  },
  {
   "cell_type": "code",
   "execution_count": null,
   "id": "787f3bd1",
   "metadata": {},
   "outputs": [],
   "source": []
  },
  {
   "cell_type": "code",
   "execution_count": null,
   "id": "9466005d",
   "metadata": {},
   "outputs": [],
   "source": []
  },
  {
   "cell_type": "code",
   "execution_count": null,
   "id": "5e036e48",
   "metadata": {},
   "outputs": [],
   "source": []
  }
 ],
 "metadata": {
  "kernelspec": {
   "display_name": "Python 3 (ipykernel)",
   "language": "python",
   "name": "python3"
  },
  "language_info": {
   "codemirror_mode": {
    "name": "ipython",
    "version": 3
   },
   "file_extension": ".py",
   "mimetype": "text/x-python",
   "name": "python",
   "nbconvert_exporter": "python",
   "pygments_lexer": "ipython3",
   "version": "3.9.7"
  }
 },
 "nbformat": 4,
 "nbformat_minor": 5
}
