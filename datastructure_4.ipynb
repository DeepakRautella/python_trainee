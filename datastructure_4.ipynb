{
 "cells": [
  {
   "cell_type": "code",
   "execution_count": null,
   "id": "a5dbe1fa",
   "metadata": {},
   "outputs": [],
   "source": [
    "1. What is the divide and conquer strategy?\n",
    "2. What is binary search and how does it work?\n",
    "3. Explain the distinction between a list and a tuple.\n",
    "4. Can you explain how Python manages memory?\n",
    "5. What is the difference between pickling and unpickling?\n",
    "6. What are the different types of search algorithms?"
   ]
  },
  {
   "cell_type": "code",
   "execution_count": null,
   "id": "0c29aff3",
   "metadata": {},
   "outputs": [],
   "source": [
    "1)A divide-and-conquer algorithm recursively breaks down a problem into two or more sub-problems of the same \n",
    "or related type, until these become simple enough to be solved directly. The solutions to the sub-problems\n",
    "are then combined to give a solution to the original problem."
   ]
  },
  {
   "cell_type": "code",
   "execution_count": null,
   "id": "3ee8bbf7",
   "metadata": {},
   "outputs": [],
   "source": [
    "2)Binary search is an efficient algorithm for finding an item from a sorted list of items.\n",
    "It works by repeatedly dividing in half the portion of the list that could contain the item, \n",
    "until you've narrowed down the possible locations to just one."
   ]
  },
  {
   "cell_type": "code",
   "execution_count": null,
   "id": "cbd3b8a1",
   "metadata": {},
   "outputs": [],
   "source": [
    "3)The key difference between the tuples and lists is that while the tuples are immutable objects the lists are mutable.\n",
    "This means that tuples cannot be changed while the lists can be modified. Tuples are more memory efficient than the lists."
   ]
  },
  {
   "cell_type": "code",
   "execution_count": null,
   "id": "80243585",
   "metadata": {},
   "outputs": [],
   "source": [
    "4)The Python memory manager manages chunks of memory called “Blocks”.\n",
    "A collection of blocks of the same size makes up the “Pool”. \n",
    "Pools are created on Arenas, chunks of 256kB memory allocated on heap=64 pools. \n",
    "If the objects get destroyed, the memory manager fills this space with a new object of the same size."
   ]
  },
  {
   "cell_type": "code",
   "execution_count": null,
   "id": "2daeec14",
   "metadata": {},
   "outputs": [],
   "source": [
    "5)“Pickling” is the process whereby a Python object hierarchy is converted into a byte stream,\n",
    "and “unpickling” is the inverse operation, whereby a byte stream (from a binary file or bytes-like object)\n",
    "is converted back into an object hierarchy."
   ]
  },
  {
   "cell_type": "code",
   "execution_count": null,
   "id": "108daf88",
   "metadata": {},
   "outputs": [],
   "source": [
    "6)Searching Algorithms :\n",
    "Linear Search.\n",
    "Binary Search.\n",
    "Jump Search.\n",
    "Interpolation Search.\n",
    "Exponential Search.\n",
    "Sublist Search (Search a linked list in another list)\n",
    "Fibonacci Search.\n",
    "The Ubiquitous Binary Search."
   ]
  },
  {
   "cell_type": "code",
   "execution_count": null,
   "id": "34a0f405",
   "metadata": {},
   "outputs": [],
   "source": []
  },
  {
   "cell_type": "code",
   "execution_count": null,
   "id": "42a81bc1",
   "metadata": {},
   "outputs": [],
   "source": []
  },
  {
   "cell_type": "code",
   "execution_count": null,
   "id": "e625fe95",
   "metadata": {},
   "outputs": [],
   "source": []
  },
  {
   "cell_type": "code",
   "execution_count": null,
   "id": "d3d13ec6",
   "metadata": {},
   "outputs": [],
   "source": []
  },
  {
   "cell_type": "code",
   "execution_count": null,
   "id": "f88a9654",
   "metadata": {},
   "outputs": [],
   "source": []
  },
  {
   "cell_type": "code",
   "execution_count": null,
   "id": "1c092fd9",
   "metadata": {},
   "outputs": [],
   "source": []
  },
  {
   "cell_type": "code",
   "execution_count": null,
   "id": "3f050944",
   "metadata": {},
   "outputs": [],
   "source": []
  }
 ],
 "metadata": {
  "kernelspec": {
   "display_name": "Python 3 (ipykernel)",
   "language": "python",
   "name": "python3"
  },
  "language_info": {
   "codemirror_mode": {
    "name": "ipython",
    "version": 3
   },
   "file_extension": ".py",
   "mimetype": "text/x-python",
   "name": "python",
   "nbconvert_exporter": "python",
   "pygments_lexer": "ipython3",
   "version": "3.9.7"
  }
 },
 "nbformat": 4,
 "nbformat_minor": 5
}
