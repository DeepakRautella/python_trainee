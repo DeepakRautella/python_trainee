{
 "cells": [
  {
   "cell_type": "code",
   "execution_count": null,
   "id": "bc90e765",
   "metadata": {},
   "outputs": [],
   "source": [
    "1. Use examples to explain the sorting algorithms.\n",
    "2. What Are the Benefits of Stacks?\n",
    "\n",
    "3. What is the difference between a stack and a queue?\n",
    "4. What are the different forms of queues?\n",
    "5. Why should I use Stack or Queue data structures instead of Arrays or\n",
    "Lists, and when should I use them?\n",
    "6. What is the significance of Stack being a recursive data structure?"
   ]
  },
  {
   "cell_type": "code",
   "execution_count": null,
   "id": "d9cc5eec",
   "metadata": {},
   "outputs": [],
   "source": [
    "#Solution"
   ]
  },
  {
   "cell_type": "code",
   "execution_count": null,
   "id": "277d6688",
   "metadata": {},
   "outputs": [],
   "source": [
    "Sorting is an arrangement of data in a particular order wether its ascending or descending order\n",
    "comparision based sorting algorithm:it uses comparision \n",
    "non comparision based sorting algorithm:"
   ]
  },
  {
   "cell_type": "code",
   "execution_count": null,
   "id": "2a3ca2e5",
   "metadata": {},
   "outputs": [],
   "source": [
    "2)In stack, we can easily add or remove elements from stack"
   ]
  },
  {
   "cell_type": "code",
   "execution_count": null,
   "id": "474c41e9",
   "metadata": {},
   "outputs": [],
   "source": [
    "3)A stack is an ordered list of elements where all insertions and deletions are made at the same end, \n",
    "whereas a queue is exactly the opposite of a stack which is open at both the ends meaning one end is\n",
    "used to insert data while the other to remove data."
   ]
  },
  {
   "cell_type": "code",
   "execution_count": null,
   "id": "ee574ad0",
   "metadata": {},
   "outputs": [],
   "source": [
    "4)There are four different types of queues:\n",
    "\n",
    "Simple Queue\n",
    "Circular Queue\n",
    "Priority Queue\n",
    "Double Ended Queue"
   ]
  },
  {
   "cell_type": "code",
   "execution_count": 3,
   "id": "5ee8cc12",
   "metadata": {},
   "outputs": [],
   "source": [
    "5)Use a queue when you want to get things out in the order that you put them in(fifo).\n",
    "Use a stack when you want to get things out in the reverse order than you put them in(lifo).\n",
    "Use a list when you want to get anything out, regardless of when you put them in (and when you don't want them to automatically be removed)."
   ]
  },
  {
   "cell_type": "code",
   "execution_count": null,
   "id": "99ca3325",
   "metadata": {},
   "outputs": [],
   "source": [
    "6) Because of LIFO property it remembers it's caller so knows whom to return when the function has to return.\n",
    "Recursion makes use of system for storing the return addresses of the function calls."
   ]
  },
  {
   "cell_type": "code",
   "execution_count": null,
   "id": "faf0665a",
   "metadata": {},
   "outputs": [],
   "source": []
  }
 ],
 "metadata": {
  "kernelspec": {
   "display_name": "Python 3 (ipykernel)",
   "language": "python",
   "name": "python3"
  },
  "language_info": {
   "codemirror_mode": {
    "name": "ipython",
    "version": 3
   },
   "file_extension": ".py",
   "mimetype": "text/x-python",
   "name": "python",
   "nbconvert_exporter": "python",
   "pygments_lexer": "ipython3",
   "version": "3.9.7"
  }
 },
 "nbformat": 4,
 "nbformat_minor": 5
}
