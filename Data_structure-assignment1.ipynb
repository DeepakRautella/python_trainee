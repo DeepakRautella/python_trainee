{
 "cells": [
  {
   "cell_type": "code",
   "execution_count": null,
   "id": "fc060eb6",
   "metadata": {},
   "outputs": [],
   "source": [
    "1. What is the distinction between a list and an array?\n",
    "2. What are the qualities of a binary tree?\n",
    "3. What is the best way to combine two balanced binarysearch trees?\n",
    "4. How would you describe Heap in detail?\n",
    "5. In terms of data structure, what is a HashMap?\n",
    "6. How do you explain the complexities of time and space?\n",
    "7. How do you recursively sort a stack?"
   ]
  },
  {
   "cell_type": "code",
   "execution_count": 1,
   "id": "8a3419de",
   "metadata": {},
   "outputs": [],
   "source": [
    "# 1: a list is a collection items which contains elemets of different data type.A list can be created by using []\n",
    "l=[1,3,5,\"deepak\",23.33]\n",
    "# a array is a collection of homogeneous data types, even for declaring a array we used a array keyword\n",
    "import array\n",
    "arr=array.array('i',[1,2,3,4,5,6,7,8])    # here i means integer data type\n",
    "# array stored data in continious memory location\n"
   ]
  },
  {
   "cell_type": "code",
   "execution_count": null,
   "id": "c2d1a930",
   "metadata": {},
   "outputs": [],
   "source": [
    "The maximum number of nodes at level ‘l’ of a binary tree is 2^l.\n",
    "The Maximum number of nodes in a binary tree of height ‘h’ is 2^h – 1. \n",
    "In a Binary Tree with N nodes, minimum possible height or the minimum number of levels is Log2(N+1).\n",
    "A Binary Tree with L leaves has at least | Log2L |+ 1   levels.\n",
    "In Binary tree where every node has 0 or 2 children, the number of leaf nodes is always one more than nodes with two children."
   ]
  },
  {
   "cell_type": "code",
   "execution_count": null,
   "id": "174c37b9",
   "metadata": {},
   "outputs": [],
   "source": [
    "3)In this approach, we are going to store the in-order traversal of both the binary search trees in two arrays A_1 and A_2.\n",
    "Now, We will create a new array, which will contain all the elements of both A_1 and A_2 in a sorted way.\n",
    "Finally, we will convert the sorted array into a balanced binary search tree, hence the two binary search trees are merged.\n",
    "This solution takes O(M+N) time, M and N are the size of the trees."
   ]
  },
  {
   "cell_type": "code",
   "execution_count": null,
   "id": "bb8f170d",
   "metadata": {},
   "outputs": [],
   "source": [
    "4)A Heap is a special Tree-based data structure in which the tree is a complete binary tree. Generally, Heaps can be of two types:\n",
    "\n",
    "Max-Heap: In a Max-Heap the key present at the root node must be greatest among the keys present at all of it’s children.\n",
    "        The same property must be recursively true for all sub-trees in that Binary Tree.\n",
    "Min-Heap: In a Min-Heap the key present at the root node must be minimum among the keys present at all of it’s children.\n",
    "        The same property must be recursively true for all sub-trees in that Binary Tree."
   ]
  },
  {
   "cell_type": "code",
   "execution_count": null,
   "id": "57c4e3a2",
   "metadata": {},
   "outputs": [],
   "source": [
    "5)In computing, a hash table (hash map) is a data structure that implements an associative array abstract data type,\n",
    "a structure that can map keys to values. A hash table uses a hash function to compute an index, also called a hash code,\n",
    "into an array of buckets or slots, from which the desired value can be found."
   ]
  },
  {
   "cell_type": "code",
   "execution_count": null,
   "id": "802d7dea",
   "metadata": {},
   "outputs": [],
   "source": [
    "6)Time Complexity: The time complexity of an algorithm quantifies the amount of time taken by an algorithm to run as \n",
    "a function of the length of the input. Note that the time to run is a function of the length of the input and not the\n",
    "actual execution time of the machine on which the algorithm is running on.\n",
    "Space Complexity: The space complexity of an algorithm quantifies the amount of space taken by an algorithm to run as\n",
    "    a function of the length of the input."
   ]
  },
  {
   "cell_type": "code",
   "execution_count": null,
   "id": "4fd5c0c5",
   "metadata": {},
   "outputs": [],
   "source": [
    "7) in recursive sort a stack, recursively remove values from the stack until the stack becomes empty and \n",
    "then insert those values (from the call stack) back into the stack in a sorted position."
   ]
  },
  {
   "cell_type": "code",
   "execution_count": null,
   "id": "9b5e6ad2",
   "metadata": {},
   "outputs": [],
   "source": []
  }
 ],
 "metadata": {
  "kernelspec": {
   "display_name": "Python 3 (ipykernel)",
   "language": "python",
   "name": "python3"
  },
  "language_info": {
   "codemirror_mode": {
    "name": "ipython",
    "version": 3
   },
   "file_extension": ".py",
   "mimetype": "text/x-python",
   "name": "python",
   "nbconvert_exporter": "python",
   "pygments_lexer": "ipython3",
   "version": "3.9.7"
  }
 },
 "nbformat": 4,
 "nbformat_minor": 5
}
