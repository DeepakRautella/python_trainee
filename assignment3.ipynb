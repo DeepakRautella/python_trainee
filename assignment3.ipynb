{
 "cells": [
  {
   "cell_type": "code",
   "execution_count": null,
   "id": "34849e92",
   "metadata": {},
   "outputs": [],
   "source": [
    "1. Why are functions advantageous to have in your programs?\n",
    "2. When does the code in a function run: when it's specified or when it's called?\n",
    "3. What statement creates a function?\n",
    "4. What is the difference between a function and a function call?\n",
    "5. How many global scopes are there in a Python program? How many local scopes?\n",
    "6. What happens to variables in a local scope when the function call returns?\n",
    "7. What is the concept of a return value? Is it possible to have a return value in an expression?\n",
    "8. If a function does not have a return statement, what is the return value of a call to that function?\n",
    "9. How do you make a function variable refer to the global variable?\n",
    "10. What is the data type of None?\n",
    "11. What does the sentence import areallyourpetsnamederic do?\n",
    "12. If you had a bacon() feature in a spam module, what would you call it after importing spam?\n",
    "13. What can you do to save a programme from crashing if it encounters an error?\n",
    "14. What is the purpose of the try clause? What is the purpose of the except clause?"
   ]
  },
  {
   "cell_type": "code",
   "execution_count": null,
   "id": "e050ff32",
   "metadata": {},
   "outputs": [],
   "source": [
    "1)function helps in reducing the duplication of code and increase the reusability of code"
   ]
  },
  {
   "cell_type": "code",
   "execution_count": null,
   "id": "7d411fae",
   "metadata": {},
   "outputs": [],
   "source": [
    "2)the code in a function run when the is function called. "
   ]
  },
  {
   "cell_type": "code",
   "execution_count": null,
   "id": "c8567eaf",
   "metadata": {},
   "outputs": [],
   "source": [
    "3)def keyword creates a function\n"
   ]
  },
  {
   "cell_type": "code",
   "execution_count": 6,
   "id": "5e785d32",
   "metadata": {},
   "outputs": [],
   "source": [
    "#4)function : means a complete function with code. whereas function call mean calling a function with its function defination or by its name\n",
    "def fun():       # function creation using def keyword\n",
    "    pass\n",
    "        \n",
    "        \n",
    "fun()          #function call---- using function name--> or function defination\n",
    "    \n",
    "    "
   ]
  },
  {
   "cell_type": "code",
   "execution_count": null,
   "id": "cd2fc700",
   "metadata": {},
   "outputs": [],
   "source": [
    "5)there is only one global and one local scope in a python"
   ]
  },
  {
   "cell_type": "code",
   "execution_count": null,
   "id": "daea192c",
   "metadata": {},
   "outputs": [],
   "source": [
    "6)when the function calls returns, its local variables were destroyed after the return calls"
   ]
  },
  {
   "cell_type": "code",
   "execution_count": null,
   "id": "08ce66d7",
   "metadata": {},
   "outputs": [],
   "source": [
    "7)return : its a keyword in a function which help us to pass a specific values or function result to a variable.\n",
    "yes we can return values in expression but it will calcuate the expression values bydefault and pass the final values only "
   ]
  },
  {
   "cell_type": "code",
   "execution_count": null,
   "id": "ef64098d",
   "metadata": {},
   "outputs": [],
   "source": [
    "8)if a function is without return stament, then it will return none "
   ]
  },
  {
   "cell_type": "code",
   "execution_count": null,
   "id": "f8376ecf",
   "metadata": {},
   "outputs": [],
   "source": [
    "9)by using global keyword we can refer function variables as global variable"
   ]
  },
  {
   "cell_type": "code",
   "execution_count": 9,
   "id": "1c09bf83",
   "metadata": {},
   "outputs": [
    {
     "data": {
      "text/plain": [
       "NoneType"
      ]
     },
     "execution_count": 9,
     "metadata": {},
     "output_type": "execute_result"
    }
   ],
   "source": [
    "#10)data type of none is none type\n",
    "d=None\n",
    "type(d)"
   ]
  },
  {
   "cell_type": "code",
   "execution_count": 12,
   "id": "2b49f505",
   "metadata": {},
   "outputs": [],
   "source": [
    "#11)What does the sentence import areallyourpetsnamederic do?\n",
    "import areallyourpetsnamederic \n",
    "import generally import modules or pythonfile for reusability of code,but import areallyourpetsnamederic \n",
    "will show error because no such module file available in mysystem "
   ]
  },
  {
   "cell_type": "code",
   "execution_count": null,
   "id": "aad3a053",
   "metadata": {},
   "outputs": [],
   "source": [
    "12)we can import function inside a module by using dot\n",
    "ex   \n",
    "import spam\n",
    "spam.bacon"
   ]
  },
  {
   "cell_type": "code",
   "execution_count": null,
   "id": "1b24de89",
   "metadata": {},
   "outputs": [],
   "source": [
    "13)to save a programme from crashing if it encounters an error we use try and except block in python,\n",
    "which pass error as exception in except block."
   ]
  },
  {
   "cell_type": "code",
   "execution_count": null,
   "id": "5989c691",
   "metadata": {},
   "outputs": [],
   "source": [
    "14)try: try block is for running doubtful codes if the try block encounter a error the try block will break and the error \n",
    "    will pass to except block, if there is no error in try block then except part will not run\n"
   ]
  }
 ],
 "metadata": {
  "kernelspec": {
   "display_name": "Python 3 (ipykernel)",
   "language": "python",
   "name": "python3"
  },
  "language_info": {
   "codemirror_mode": {
    "name": "ipython",
    "version": 3
   },
   "file_extension": ".py",
   "mimetype": "text/x-python",
   "name": "python",
   "nbconvert_exporter": "python",
   "pygments_lexer": "ipython3",
   "version": "3.9.7"
  }
 },
 "nbformat": 4,
 "nbformat_minor": 5
}
