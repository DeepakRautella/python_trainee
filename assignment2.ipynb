{
 "cells": [
  {
   "cell_type": "code",
   "execution_count": 1,
   "id": "58ca4d81",
   "metadata": {},
   "outputs": [],
   "source": [
    "#1 1.What are the two values of the Boolean data type? How do you write them?"
   ]
  },
  {
   "cell_type": "code",
   "execution_count": null,
   "id": "ea90538d",
   "metadata": {},
   "outputs": [],
   "source": [
    "\"\"\"\"\" boolean data types contain two values True and False, we write them while assigning it to variable \n",
    "value=True"
   ]
  },
  {
   "cell_type": "code",
   "execution_count": 2,
   "id": "90c45603",
   "metadata": {},
   "outputs": [],
   "source": [
    " #2 What are the three different types of Boolean operators?\n",
    "    "
   ]
  },
  {
   "cell_type": "code",
   "execution_count": null,
   "id": "0aed66b8",
   "metadata": {},
   "outputs": [],
   "source": [
    "\"\"\"there are three different types of boolean operators: AND, OR and NOT"
   ]
  },
  {
   "cell_type": "code",
   "execution_count": null,
   "id": "f1314a79",
   "metadata": {},
   "outputs": [],
   "source": [
    "\"\"\"Q3:Make a list of each Boolean operator's truth tables (i.e. every possible combination of Boolean\n",
    "values for the operator and what it evaluate )."
   ]
  },
  {
   "cell_type": "code",
   "execution_count": 5,
   "id": "32e8c964",
   "metadata": {},
   "outputs": [],
   "source": [
    "#for AND :     0 and 0 =0, 0 and 1=0 , 1 and 0 =0 , 1 and 1 = 1           note :1= True and 0 =False"
   ]
  },
  {
   "cell_type": "code",
   "execution_count": 6,
   "id": "02090ead",
   "metadata": {},
   "outputs": [],
   "source": [
    "# or  :     0 or 0 = 0 , 0 or 1 = 1 , 1 or 0 =1 , 1 or 1 = 1"
   ]
  },
  {
   "cell_type": "code",
   "execution_count": 7,
   "id": "2c1ac331",
   "metadata": {},
   "outputs": [],
   "source": [
    "#not :  1 not =0  and 0 not =1"
   ]
  },
  {
   "cell_type": "code",
   "execution_count": null,
   "id": "0440944e",
   "metadata": {},
   "outputs": [],
   "source": [
    "\"\"\"4. What are the values of the following expressions?\n",
    "(5 > 4) and (3 == 5)\n",
    "not (5 > 4)\n",
    "(5 > 4) or (3 == 5)\n",
    "not ((5 > 4) or (3 == 5))\n",
    "(True and True) and (True == False)\n",
    "(not False) or (not True)"
   ]
  },
  {
   "cell_type": "code",
   "execution_count": 17,
   "id": "39dcc077",
   "metadata": {},
   "outputs": [],
   "source": [
    "#(5 > 4) and (3 == 5)                       :False\n",
    "#not (5 > 4)                               :False\n",
    "#(5 > 4) or (3 == 5)                       :True\n",
    "#not ((5 > 4) or (3 == 5))                 :False\n",
    "#(True and True) and (True == False)      :False\n",
    "# (not False) or (not True)               :True\n"
   ]
  },
  {
   "cell_type": "code",
   "execution_count": null,
   "id": "77842ef8",
   "metadata": {},
   "outputs": [],
   "source": [
    "5. What are the six comparison operators?"
   ]
  },
  {
   "cell_type": "code",
   "execution_count": null,
   "id": "29ee573a",
   "metadata": {},
   "outputs": [],
   "source": [
    "#ans: less than (<), less than equalto(<=), greater than(>),greater than equal to(>=),equal to(==) and not equal to(!=)"
   ]
  },
  {
   "cell_type": "code",
   "execution_count": null,
   "id": "50f9f9de",
   "metadata": {},
   "outputs": [],
   "source": [
    "6. How do you tell the difference between the equal to and assignment operators?Describe a\n",
    "condition and when you would use one."
   ]
  },
  {
   "cell_type": "code",
   "execution_count": null,
   "id": "bba79f33",
   "metadata": {},
   "outputs": [],
   "source": [
    "\"\"\"equal to operator used in checking condition and used (==),while assignment operator is used for assigning values using single equal sign(=)\n",
    "example \n",
    "a=10  (assignment operator)\n",
    "a==10(equal to, to check wether value of a equal to 10 or not)"
   ]
  },
  {
   "cell_type": "code",
   "execution_count": null,
   "id": "a6fbd7f0",
   "metadata": {},
   "outputs": [],
   "source": [
    "7. Identify the three blocks in this code:\n",
    "spam = 0\n",
    "if spam == 10:\n",
    "print('eggs')\n",
    "if spam >5:\n",
    "print('bacon')\n",
    "else:\n",
    "print('ham')\n",
    "print('spam')\n",
    "print('spam')"
   ]
  },
  {
   "cell_type": "code",
   "execution_count": null,
   "id": "be276426",
   "metadata": {},
   "outputs": [],
   "source": [
    "\"\"\"first block: spam=0\n",
    "second block if spam==10:\n",
    "                print('eggs')\n",
    "\n",
    "third block: if else block"
   ]
  },
  {
   "cell_type": "code",
   "execution_count": null,
   "id": "71a6be53",
   "metadata": {},
   "outputs": [],
   "source": [
    "8. Write code that prints Hello if 1 is stored in spam, prints Howdy if 2 is stored in spam, and prints\n",
    "Greetings! if anything else is stored in spam."
   ]
  },
  {
   "cell_type": "code",
   "execution_count": 4,
   "id": "0dcba690",
   "metadata": {},
   "outputs": [
    {
     "name": "stdout",
     "output_type": "stream",
     "text": [
      "enter a number5\n",
      "spam\n"
     ]
    }
   ],
   "source": [
    "spam=int(input(\"enter a number\"))\n",
    "if spam==1:\n",
    "    print(\"Hello\")\n",
    "\n",
    "elif spam==2:\n",
    "    print(\"Howdy\")\n",
    "else:\n",
    "    print(\"spam\")\n"
   ]
  },
  {
   "cell_type": "code",
   "execution_count": null,
   "id": "055f1c63",
   "metadata": {},
   "outputs": [],
   "source": [
    "9.If your programme is stuck in an endless loop, what keys you’ll press?"
   ]
  },
  {
   "cell_type": "code",
   "execution_count": null,
   "id": "1fb0fe58",
   "metadata": {},
   "outputs": [],
   "source": [
    "CTRL + C "
   ]
  },
  {
   "cell_type": "code",
   "execution_count": null,
   "id": "10977182",
   "metadata": {},
   "outputs": [],
   "source": [
    "10. How can you tell the difference between break and continue?"
   ]
  },
  {
   "cell_type": "code",
   "execution_count": null,
   "id": "cd67728f",
   "metadata": {},
   "outputs": [],
   "source": [
    " break is used to break the current loop in which it is placed, while continue will continue the current loop in which its placed."
   ]
  },
  {
   "cell_type": "code",
   "execution_count": null,
   "id": "de6bae6e",
   "metadata": {},
   "outputs": [],
   "source": [
    "11. In a for loop, what is the difference between range(10), range(0, 10), and range(0, 10, 1)?"
   ]
  },
  {
   "cell_type": "code",
   "execution_count": null,
   "id": "96bcaf95",
   "metadata": {},
   "outputs": [],
   "source": [
    "\"\"\" well generally in functioning there is no difference in them because in range, index start with 0 by default \n",
    "and increament 1, there is  just a statement diference where in range(!0) stop=10 and no start and step is defined\n",
    "while range(0,10) start=0 and stop=10 and in range(0,10,1) start=0, stop=10 and step =1"
   ]
  },
  {
   "cell_type": "code",
   "execution_count": null,
   "id": "291e6215",
   "metadata": {},
   "outputs": [],
   "source": [
    "12. Write a short program that prints the numbers 1 to 10 using a for loop. Then write an equivalent\n",
    "program that prints the numbers 1 to 10 using a while loop."
   ]
  },
  {
   "cell_type": "code",
   "execution_count": 5,
   "id": "1159f040",
   "metadata": {},
   "outputs": [
    {
     "name": "stdout",
     "output_type": "stream",
     "text": [
      "1\n",
      "2\n",
      "3\n",
      "4\n",
      "5\n",
      "6\n",
      "7\n",
      "8\n",
      "9\n",
      "10\n"
     ]
    }
   ],
   "source": [
    "for i in range(1,11):\n",
    "    print(i)"
   ]
  },
  {
   "cell_type": "code",
   "execution_count": 6,
   "id": "bca61a08",
   "metadata": {},
   "outputs": [
    {
     "name": "stdout",
     "output_type": "stream",
     "text": [
      "1\n",
      "2\n",
      "3\n",
      "4\n",
      "5\n",
      "6\n",
      "7\n",
      "8\n",
      "9\n",
      "10\n"
     ]
    }
   ],
   "source": [
    "i=1\n",
    "while i<=10:\n",
    "    print(i)\n",
    "    i=i+1"
   ]
  },
  {
   "cell_type": "code",
   "execution_count": null,
   "id": "46b25baa",
   "metadata": {},
   "outputs": [],
   "source": [
    "13. If you had a function named bacon() inside a module named spam, how would you call it after\n",
    "importing spam?"
   ]
  },
  {
   "cell_type": "code",
   "execution_count": null,
   "id": "091c3251",
   "metadata": {},
   "outputs": [],
   "source": [
    "\"\"\"we can import function inside a module by using dot\n",
    "ex   import spam\n",
    "     spam.bacon"
   ]
  },
  {
   "cell_type": "code",
   "execution_count": null,
   "id": "2a38559a",
   "metadata": {},
   "outputs": [],
   "source": []
  }
 ],
 "metadata": {
  "kernelspec": {
   "display_name": "Python 3 (ipykernel)",
   "language": "python",
   "name": "python3"
  },
  "language_info": {
   "codemirror_mode": {
    "name": "ipython",
    "version": 3
   },
   "file_extension": ".py",
   "mimetype": "text/x-python",
   "name": "python",
   "nbconvert_exporter": "python",
   "pygments_lexer": "ipython3",
   "version": "3.9.7"
  }
 },
 "nbformat": 4,
 "nbformat_minor": 5
}
