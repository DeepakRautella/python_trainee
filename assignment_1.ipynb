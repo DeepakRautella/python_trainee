{
 "cells": [
  {
   "cell_type": "code",
   "execution_count": 2,
   "id": "136482af",
   "metadata": {},
   "outputs": [],
   "source": [
    "#1. In the below elements which of them are values or an expression? eg:- values can be\n",
    "# integer or string and expressions will be mathematical operators.\n",
    "#  * ,'hello',-87.8,- ,/ ,+,6 "
   ]
  },
  {
   "cell_type": "code",
   "execution_count": null,
   "id": "ec6a36c9",
   "metadata": {},
   "outputs": [],
   "source": [
    "# values : 'hello',-87.8,6\n",
    "#expressions : *,-,+,/"
   ]
  },
  {
   "cell_type": "code",
   "execution_count": 3,
   "id": "9ed40a0f",
   "metadata": {},
   "outputs": [],
   "source": [
    "#2. What is the difference between string and variable?\n",
    "# ans :string are the set of alphabets,numbers and operators enclosed in single or double quotes.\n",
    "# variables is a medium through which our data are stored and preocessed in a memory. "
   ]
  },
  {
   "cell_type": "code",
   "execution_count": 4,
   "id": "e787ee6a",
   "metadata": {},
   "outputs": [],
   "source": [
    "#3 Describe three different data types.\n",
    "# ans :numeric data types: represent data in numeric values it include float,integer or complex numbers.\n",
    "# boolean data types : it includes only two values i.e. True or False\n",
    "# sequencial data types : allow us to store multiple characters in a organised way . it includes string,\n",
    "# list,tuple,dictionary etc"
   ]
  },
  {
   "cell_type": "code",
   "execution_count": 5,
   "id": "c48a049d",
   "metadata": {},
   "outputs": [],
   "source": [
    "#4. What is an expression made up of? What do all expressions do?\n",
    "# ans: expression : expression made up of variable/same data types and operators, expression basically evaluate the operation\n",
    "# provided to it . "
   ]
  },
  {
   "cell_type": "code",
   "execution_count": 6,
   "id": "2dd5aefb",
   "metadata": {},
   "outputs": [],
   "source": [
    "#5. This assignment statements, like spam = 10. What is the difference between an expression and a statement?\n",
    "#ans: expression :   12 + 13 , \"deepak\"+\"rautella\"\n",
    "# experession is a combination of variables/ same data types and operators.\n",
    "# statement : a=12+13 ,print(\"deepak\")\n",
    "# statement represent action to be taken for example assigment statement,print statement,conditional statement\n"
   ]
  },
  {
   "cell_type": "code",
   "execution_count": 10,
   "id": "868a57eb",
   "metadata": {},
   "outputs": [],
   "source": [
    "#6. After running the following code, what does the variable bacon contain?\n",
    "#bacon= 22\n",
    "# bacon + 1\n",
    "#ans:bacon will contain 22"
   ]
  },
  {
   "cell_type": "code",
   "execution_count": 11,
   "id": "d78c2685",
   "metadata": {},
   "outputs": [],
   "source": [
    "#7. What should the values of the following two terms be?\n",
    "#'spam' + 'spamspam'\n",
    "#'spam' * 3\n",
    "#ans:  'spamspamspam'"
   ]
  },
  {
   "cell_type": "code",
   "execution_count": 13,
   "id": "61173c9a",
   "metadata": {},
   "outputs": [],
   "source": [
    "#8. Why is eggs a valid variable name while 100 is invalid?\n",
    "#ans: The first character of the variable can be an alphabet or (_) underscore."
   ]
  },
  {
   "cell_type": "code",
   "execution_count": 17,
   "id": "a456e498",
   "metadata": {},
   "outputs": [],
   "source": [
    "#9. What three functions can be used to get the integer, floating-point number, or string version of a value?\n",
    "#ans: for integer int(),floating point number float() and for string version we use str().\n"
   ]
  },
  {
   "cell_type": "code",
   "execution_count": 19,
   "id": "9b64560f",
   "metadata": {},
   "outputs": [
    {
     "ename": "TypeError",
     "evalue": "can only concatenate str (not \"int\") to str",
     "output_type": "error",
     "traceback": [
      "\u001b[1;31m---------------------------------------------------------------------------\u001b[0m",
      "\u001b[1;31mTypeError\u001b[0m                                 Traceback (most recent call last)",
      "\u001b[1;32mC:\\Users\\DEEPAK~1\\AppData\\Local\\Temp/ipykernel_6652/3293064988.py\u001b[0m in \u001b[0;36m<module>\u001b[1;34m\u001b[0m\n\u001b[0;32m      1\u001b[0m \u001b[1;31m# 10. Why does this expression cause an error? How can you fix it?\u001b[0m\u001b[1;33m\u001b[0m\u001b[1;33m\u001b[0m\u001b[0m\n\u001b[1;32m----> 2\u001b[1;33m \u001b[1;34m'I have eaten '\u001b[0m \u001b[1;33m+\u001b[0m \u001b[1;36m99\u001b[0m \u001b[1;33m+\u001b[0m \u001b[1;34m' burritos.'\u001b[0m\u001b[1;33m\u001b[0m\u001b[1;33m\u001b[0m\u001b[0m\n\u001b[0m",
      "\u001b[1;31mTypeError\u001b[0m: can only concatenate str (not \"int\") to str"
     ]
    }
   ],
   "source": [
    "# 10. Why does this expression cause an error? How can you fix it?\n",
    "'I have eaten ' + 99 + ' burritos.'"
   ]
  },
  {
   "cell_type": "code",
   "execution_count": 20,
   "id": "1371f360",
   "metadata": {},
   "outputs": [
    {
     "data": {
      "text/plain": [
       "'I have eaten 99 burritos.'"
      ]
     },
     "execution_count": 20,
     "metadata": {},
     "output_type": "execute_result"
    }
   ],
   "source": [
    "# ans : only same kind of data types can perfom operation together.\n",
    "'I have eaten ' + str(99) + ' burritos.'"
   ]
  },
  {
   "cell_type": "code",
   "execution_count": null,
   "id": "505f764f",
   "metadata": {},
   "outputs": [],
   "source": []
  }
 ],
 "metadata": {
  "kernelspec": {
   "display_name": "Python 3 (ipykernel)",
   "language": "python",
   "name": "python3"
  },
  "language_info": {
   "codemirror_mode": {
    "name": "ipython",
    "version": 3
   },
   "file_extension": ".py",
   "mimetype": "text/x-python",
   "name": "python",
   "nbconvert_exporter": "python",
   "pygments_lexer": "ipython3",
   "version": "3.9.7"
  }
 },
 "nbformat": 4,
 "nbformat_minor": 5
}
