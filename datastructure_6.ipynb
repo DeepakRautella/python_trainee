{
 "cells": [
  {
   "cell_type": "code",
   "execution_count": null,
   "id": "1c3725b4",
   "metadata": {},
   "outputs": [],
   "source": [
    "1. What exactly is an application tree?\n",
    "2. What is pre-order tree traversal and how does it work?\n",
    "3. What is the problem with the Hanoi Tower?\n",
    "4. Can you explain the distinction between linear and nonlinear data\n",
    "structures?\n",
    "\n",
    "5. What is the distinction between a list and an array?"
   ]
  },
  {
   "cell_type": "code",
   "execution_count": null,
   "id": "ff2f3b54",
   "metadata": {},
   "outputs": [],
   "source": [
    "1)\n"
   ]
  },
  {
   "cell_type": "code",
   "execution_count": null,
   "id": "e82f89fd",
   "metadata": {},
   "outputs": [],
   "source": [
    "2)"
   ]
  },
  {
   "cell_type": "code",
   "execution_count": null,
   "id": "7bc3691f",
   "metadata": {},
   "outputs": [],
   "source": []
  },
  {
   "cell_type": "code",
   "execution_count": null,
   "id": "17a4460e",
   "metadata": {},
   "outputs": [],
   "source": [
    "3)Initially, all the disks are placed on one rod, one over the other in ascending order of size similar \n",
    "to a cone-shaped tower. The objective of this problem is to move the stack of disks from the initial rod to another rod,\n",
    "following these rules: A disk cannot be placed on top of a smaller disk."
   ]
  },
  {
   "cell_type": "code",
   "execution_count": null,
   "id": "9a3ab84a",
   "metadata": {},
   "outputs": [],
   "source": [
    "4)In linear data structure, data elements are sequentially connected and each element is traversable througha single run. \n",
    "In non-linear data structure, data elements are hierarchically connected and are present at various levels."
   ]
  },
  {
   "cell_type": "code",
   "execution_count": null,
   "id": "de76ba19",
   "metadata": {},
   "outputs": [],
   "source": [
    "5)Array can store elements of only one data type but List can store the elements of different data types too.\n",
    "Hence, Array stores homogeneous data values, and the list can store heterogeneous data values"
   ]
  },
  {
   "cell_type": "code",
   "execution_count": null,
   "id": "9b2e5caf",
   "metadata": {},
   "outputs": [],
   "source": []
  }
 ],
 "metadata": {
  "kernelspec": {
   "display_name": "Python 3 (ipykernel)",
   "language": "python",
   "name": "python3"
  },
  "language_info": {
   "codemirror_mode": {
    "name": "ipython",
    "version": 3
   },
   "file_extension": ".py",
   "mimetype": "text/x-python",
   "name": "python",
   "nbconvert_exporter": "python",
   "pygments_lexer": "ipython3",
   "version": "3.9.7"
  }
 },
 "nbformat": 4,
 "nbformat_minor": 5
}
